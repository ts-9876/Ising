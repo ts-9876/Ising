{
 "cells": [
  {
   "cell_type": "code",
   "execution_count": 21,
   "metadata": {},
   "outputs": [],
   "source": [
    "import random\n",
    "import numpy as np\n",
    "import matplotlib.pyplot as plt\n",
    "import math\n",
    "from PIL import Image\n",
    "\n",
    "def generate_empty_lattice(L): # This generates an empty 2D array of dimensions LxL with just zeros.\n",
    "\n",
    "    empty = np.zeros((L,L), dtype = int)\n",
    "\n",
    "    return empty\n",
    "\n",
    "def generate_random_lattice(empty_lattice): # This iterates through the whole 2D array, assigning a random spin to each place.\n",
    "\n",
    "    for i in range(len(empty_lattice)):\n",
    "        for j in range(len(empty_lattice)):\n",
    "            spin = random.choice([-1,1])\n",
    "            empty_lattice[i][j] = spin\n",
    "\n",
    "    return empty_lattice\n",
    "\n",
    "def metropolis(lattice, L, steps, temp):\n",
    "    def delta_energy(lattice, i, j):\n",
    "        S = lattice[i, j]\n",
    "        nb = 0\n",
    "        if i + 1 < L:\n",
    "            nb += lattice[i + 1, j]  # Bottom neighbor\n",
    "        if i - 1 >= 0:\n",
    "            nb += lattice[i - 1, j]  # Top neighbor\n",
    "        if j + 1 < L:\n",
    "            nb += lattice[i, j + 1]  # Right neighbor\n",
    "        if j - 1 >= 0:\n",
    "            nb += lattice[i, j - 1]  # Left neighbor\n",
    "        return 2 * S * nb\n",
    "\n",
    "    frames = []\n",
    "\n",
    "    for _ in range(steps):\n",
    "        i, j = random.randint(0, L-1), random.randint(0, L-1)\n",
    "        dE = delta_energy(lattice, i, j)\n",
    "\n",
    "        if dE < 0 or random.uniform(0, 1) < math.exp(-dE / temp):\n",
    "            lattice[i, j] *= -1\n",
    "\n",
    "        # Capture a frame every 10 steps (adjust for smoother or faster GIFs)\n",
    "        if _ % 75 == 0:\n",
    "            fig, ax = plt.subplots()\n",
    "            ax.imshow(lattice, cmap='coolwarm', interpolation='nearest')\n",
    "            ax.axis('off')\n",
    "            fig.canvas.draw()\n",
    "            frame = np.frombuffer(fig.canvas.tostring_rgb(), dtype=np.uint8)\n",
    "            frame = frame.reshape(fig.canvas.get_width_height()[::-1] + (3,))\n",
    "            frames.append(Image.fromarray(frame))\n",
    "            plt.close(fig)\n",
    "\n",
    "    return frames\n",
    "\n",
    "def save_gif(frames, filename=\"Metropolis.gif\"):\n",
    "    frames[0].save(\n",
    "        filename,\n",
    "        save_all=True,\n",
    "        append_images=frames[1:],\n",
    "        duration=10,\n",
    "        loop=0\n",
    "    )\n"
   ]
  },
  {
   "cell_type": "code",
   "execution_count": 22,
   "metadata": {},
   "outputs": [
    {
     "name": "stderr",
     "output_type": "stream",
     "text": [
      "C:\\Users\\thomt\\AppData\\Local\\Temp\\ipykernel_8664\\786593494.py:51: MatplotlibDeprecationWarning: The tostring_rgb function was deprecated in Matplotlib 3.8 and will be removed in 3.10. Use buffer_rgba instead.\n",
      "  frame = np.frombuffer(fig.canvas.tostring_rgb(), dtype=np.uint8)\n"
     ]
    }
   ],
   "source": [
    "# Parameters\n",
    "L = 50          # Lattice size\n",
    "steps = 12500    # Total Metropolis steps\n",
    "temp = 0.001   # Temperature\n",
    "\n",
    "# Initialize lattice\n",
    "empty = generate_empty_lattice(L)\n",
    "lattice = generate_random_lattice(empty)\n",
    "\n",
    "# Run Metropolis and save the GIF\n",
    "frames = metropolis(lattice, L, steps, temp)\n",
    "save_gif(frames)"
   ]
  },
  {
   "cell_type": "code",
   "execution_count": null,
   "metadata": {},
   "outputs": [],
   "source": []
  }
 ],
 "metadata": {
  "kernelspec": {
   "display_name": "base",
   "language": "python",
   "name": "python3"
  },
  "language_info": {
   "codemirror_mode": {
    "name": "ipython",
    "version": 3
   },
   "file_extension": ".py",
   "mimetype": "text/x-python",
   "name": "python",
   "nbconvert_exporter": "python",
   "pygments_lexer": "ipython3",
   "version": "3.12.7"
  }
 },
 "nbformat": 4,
 "nbformat_minor": 2
}
